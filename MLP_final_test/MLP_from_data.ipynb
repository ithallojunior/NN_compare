{
 "cells": [
  {
   "cell_type": "markdown",
   "metadata": {
    "collapsed": false
   },
   "source": [
    "\n",
    "# This code shows an example for using the imported data from a modified .mat file into a artificial neural network and its training\n"
   ]
  },
  {
   "cell_type": "code",
   "execution_count": 2,
   "metadata": {
    "collapsed": false
   },
   "outputs": [],
   "source": [
    "import numpy as np\n",
    "from sklearn.neural_network import MLPRegressor\n",
    "from sklearn import preprocessing\n",
    "from sklearn.cross_validation import train_test_split\n",
    "import matplotlib.pyplot as plt\n",
    "import matplotlib.patches as mpatches\n",
    "from sklearn.metrics import r2_score # in order to test the results\n",
    "from sklearn.grid_search import GridSearchCV # looking for parameters\n",
    "import pickle #saving to file\n",
    "\n"
   ]
  },
  {
   "cell_type": "markdown",
   "metadata": {},
   "source": [
    "# Importing preprocessing data"
   ]
  },
  {
   "cell_type": "code",
   "execution_count": 3,
   "metadata": {
    "collapsed": true
   },
   "outputs": [],
   "source": [
    "#this function reads the file \n",
    "def read_data(archive, rows, columns):\n",
    "    data = open(archive, 'r')\n",
    "    mylist = data.read().split()\n",
    "    data.close()\n",
    "    myarray = np.array(mylist).reshape(( rows, columns)).astype(float)\n",
    "    return myarray\n",
    "    "
   ]
  },
  {
   "cell_type": "code",
   "execution_count": 16,
   "metadata": {
    "collapsed": false
   },
   "outputs": [
    {
     "name": "stdout",
     "output_type": "stream",
     "text": [
      "(72, 10)\n"
     ]
    }
   ],
   "source": [
    "data = read_data('../get_data_example/set.txt',72, 12)\n",
    "X = data[:, [0, 2, 4, 6, 7, 8, 9, 10, 11]]\n",
    "#print pre_X.shape, data.shape\n",
    "y  = data[:,1]\n",
    "#print y.shape\n",
    "\n",
    "#getting the time vector for plotting purposes\n",
    "time_stamp = np.zeros(data.shape[0])\n",
    "for i in xrange(data.shape[0]):\n",
    "        time_stamp[i] = i*(1.0/60.0)\n",
    "        \n",
    "#print X.shape, time_stamp.shape\n",
    "X = np.hstack((X, time_stamp.reshape((X.shape[0], 1))))\n",
    "print X.shape\n",
    "\n",
    "X_train, X_test, y_train, y_test = train_test_split(X, y, test_size=0.3, random_state=1)\n",
    "t_test = X_test[:,-1]\n",
    "t_train = X_train[:, -1]\n",
    "X_train_std = preprocessing.scale(X_train[:,0:-1])\n",
    "X_test_std = preprocessing.scale(X_test[:, 0:-1])"
   ]
  },
  {
   "cell_type": "markdown",
   "metadata": {},
   "source": [
    "## Sorting out  data (for plotting purposes)"
   ]
  },
  {
   "cell_type": "code",
   "execution_count": 17,
   "metadata": {
    "collapsed": false
   },
   "outputs": [],
   "source": [
    "#Here comes the way to sort out the data according to one the elements of it\n",
    "test_sorted = np.hstack(\n",
    "    (t_test.reshape(X_test_std.shape[0], 1), X_test_std, y_test.reshape(X_test_std.shape[0], 1)))\n",
    "\n",
    "test_sorted = test_sorted[np.argsort(test_sorted[:,0])] #modified\n",
    "\n",
    "train_sorted = np.hstack((t_train.reshape(t_train.shape[0], 1), y_train.reshape(y_train.shape[0], 1) ))\n",
    "train_sorted = train_sorted[np.argsort(train_sorted[:,0])]"
   ]
  },
  {
   "cell_type": "markdown",
   "metadata": {},
   "source": [
    "## Artificial Neural Network"
   ]
  },
  {
   "cell_type": "code",
   "execution_count": null,
   "metadata": {
    "collapsed": false
   },
   "outputs": [],
   "source": [
    "#Grid search, random state =0: same beginning for all\n",
    "alpha1 = np.linspace(0.001,0.9, 10).tolist()\n",
    "momentum1 = np.linspace(0.3,0.9, 10).tolist()\n",
    "params_dist = {\"hidden_layer_sizes\":[(20, 40), (15, 40), (10,15), (15, 15, 10), (15, 10),(20, 20), (15, 5)],\n",
    "               \"activation\":['tanh','logistic'],\"algorithm\":['sgd', 'l-bfgs'], \"alpha\":alpha1,\n",
    "               \"learning_rate\":['constant'],\"max_iter\":[500], \"random_state\":[0],\n",
    "               \"verbose\": [False], \"warm_start\":[False], \"momentum\":momentum1}\n",
    "grid = GridSearchCV(MLPRegressor(), param_grid=params_dist)\n",
    "grid.fit(X_test_std, y_test)\n",
    "\n",
    "print \"Best score:\", grid.best_score_\n",
    "print \"Best parameter's set found:\\n\"\n",
    "print grid.best_params_ "
   ]
  },
  {
   "cell_type": "raw",
   "metadata": {
    "collapsed": false
   },
   "source": [
    "# The artificial neural network, this block was changed to the one from grid search\n",
    "reg = MLPRegressor(hidden_layer_sizes=(10, 15),activation='logistic', algorithm='l-bfgs', alpha=0.001,\n",
    "                   learning_rate='constant',max_iter=500, random_state=None, verbose=False, warm_start=False,\n",
    "                   momentum=0.8, tol=10e-10, shuffle=False)"
   ]
  },
  {
   "cell_type": "markdown",
   "metadata": {},
   "source": [
    "## Plotting"
   ]
  },
  {
   "cell_type": "code",
   "execution_count": null,
   "metadata": {
    "collapsed": false
   },
   "outputs": [],
   "source": [
    "%matplotlib inline\n",
    "\n",
    "results = grid.predict(test_sorted[:, 1:-1])\n",
    "\n",
    "plt.plot(test_sorted[:, 0], results, c='r') # ( sorted time, results)\n",
    "plt.plot(train_sorted[:, 0], train_sorted[:,1], c='b' ) #expected\n",
    "plt.scatter(time_stamp, y, c='k')\n",
    "\n",
    "plt.xlabel(\"Time(s)\")\n",
    "plt.ylabel(\"Angular velocities(rad/s)\")\n",
    "\n",
    "red_patch = mpatches.Patch(color='red', label='Predicted')\n",
    "blue_patch = mpatches.Patch(color='blue', label ='Expected')\n",
    "black_patch = mpatches.Patch(color='black', label ='Original')\n",
    "plt.legend(handles=[red_patch, blue_patch, black_patch])\n",
    "plt.title(\"MLP results vs Expected values\")\n",
    "plt.show()\n",
    "\n",
    "print \"Accuracy:\", grid.score(X_test_std, y_test)\n",
    "#print \"Accuracy test 2\", r2_score(test_sorted[:,-1], results)\n"
   ]
  },
  {
   "cell_type": "markdown",
   "metadata": {
    "collapsed": false
   },
   "source": [
    "## Saving ANN to file through pickle (and using it later)"
   ]
  },
  {
   "cell_type": "code",
   "execution_count": null,
   "metadata": {
    "collapsed": false
   },
   "outputs": [],
   "source": [
    "#This prevents the user from losing a previous important result\n",
    "def save_it(ans):\n",
    "    if ans == \"yes\":\n",
    "        f = open('data.ann', 'w')\n",
    "        mem = pickle.dumps(grid)\n",
    "        f.write(mem)\n",
    "        f.close()\n",
    "    else:\n",
    "        print \"Nothing to save\"        \n",
    "        \n",
    "        \n",
    "save_it(\"no\")"
   ]
  },
  {
   "cell_type": "code",
   "execution_count": 5,
   "metadata": {
    "collapsed": false
   },
   "outputs": [
    {
     "name": "stdout",
     "output_type": "stream",
     "text": [
      "Just the accuracy: 0.898618497718 \n",
      "\n",
      "Parameters:\n",
      "{'beta_1': 0.9, 'warm_start': False, 'beta_2': 0.999, 'shuffle': False, 'nesterovs_momentum': True, 'algorithm': 'l-bfgs', 'hidden_layer_sizes': (10, 15), 'epsilon': 1e-08, 'activation': 'logistic', 'max_iter': 500, 'batch_size': 'auto', 'power_t': 0.5, 'random_state': None, 'learning_rate_init': 0.001, 'tol': 1e-09, 'validation_fraction': 0.1, 'alpha': 0.001, 'momentum': 0.8, 'learning_rate': 'constant', 'early_stopping': False, 'verbose': False} \n",
      "\n",
      "Loss: 0.00322498086329\n",
      "Total of layers: 4\n",
      "Total of iterations: 501\n"
     ]
    }
   ],
   "source": [
    "#Loading a successful ANN\n",
    "f = open('data.ann', 'r')\n",
    "nw = f.read()\n",
    "saved_ann = pickle.loads(nw)\n",
    "print \"Just the accuracy:\", saved_ann.score(X_test_std, y_test), \"\\n\"\n",
    "print \"Parameters:\"\n",
    "print saved_ann.get_params(), \"\\n\"\n",
    "print \"Loss:\", saved_ann.loss_\n",
    "print \"Total of layers:\", saved_ann.n_layers_\n",
    "print \"Total of iterations:\", saved_ann.n_iter_\n"
   ]
  },
  {
   "cell_type": "code",
   "execution_count": 18,
   "metadata": {
    "collapsed": false
   },
   "outputs": [
    {
     "data": {
      "image/png": "[encoded data removed]",
      "text/plain": [
       "<matplotlib.figure.Figure at 0x1045aa550>"
      ]
     },
     "metadata": {},
     "output_type": "display_data"
    },
    {
     "data": {
      "image/png": "[encoded data removed]",
      "text/plain": [
       "<matplotlib.figure.Figure at 0x110948390>"
      ]
     },
     "metadata": {},
     "output_type": "display_data"
    },
    {
     "name": "stdout",
     "output_type": "stream",
     "text": [
      "Accuracy: 0.898618497718\n"
     ]
    }
   ],
   "source": [
    "#print from previously saved data\n",
    "%matplotlib inline\n",
    "\n",
    "results = saved_ann.predict(test_sorted[:, 1:-1])\n",
    "\n",
    "\n",
    "plt.plot(test_sorted[:, 0], results, c='r') # ( sorted time, results)\n",
    "plt.plot(train_sorted[:, 0], train_sorted[:,1], c='b' ) #expected\n",
    "plt.scatter(time_stamp, y, c='k')\n",
    "\n",
    "plt.xlabel(\"Time(s)\")\n",
    "plt.ylabel(\"Angular velocities(rad/s)\")\n",
    "\n",
    "red_patch = mpatches.Patch(color='red', label='Predicted')\n",
    "blue_patch = mpatches.Patch(color='blue', label ='Expected')\n",
    "black_patch = mpatches.Patch(color='black', label ='Original')\n",
    "plt.legend(handles=[red_patch, blue_patch, black_patch])\n",
    "plt.title(\"MLP results vs Expected values (Loaded from file)\")\n",
    "plt.show()\n",
    "\n",
    "\n",
    "\n",
    "\n",
    "plt.plot(time_stamp, y,'--.', c='r')\n",
    "plt.xlabel(\"Time(s)\")\n",
    "plt.ylabel(\"Angular velocities(rad/s)\")\n",
    "plt.title(\"Resuts from patient:\\n\"\n",
    "         \" Angular velocities for the right knee\")\n",
    "plt.show()\n",
    "\n",
    "\n",
    "print \"Accuracy:\", saved_ann.score(X_test_std, y_test)\n",
    "#print \"Accuracy test 2\", r2_score(test_sorted[:,-1], results)"
   ]
  },
  {
   "cell_type": "code",
   "execution_count": null,
   "metadata": {
    "collapsed": true
   },
   "outputs": [],
   "source": []
  }
 ],
 "metadata": {
  "kernelspec": {
   "display_name": "Python 2",
   "language": "python",
   "name": "python2"
  },
  "language_info": {
   "codemirror_mode": {
    "name": "ipython",
    "version": 2
   },
   "file_extension": ".py",
   "mimetype": "text/x-python",
   "name": "python",
   "nbconvert_exporter": "python",
   "pygments_lexer": "ipython2",
   "version": "2.7.12"
  }
 },
 "nbformat": 4,
 "nbformat_minor": 0
}
