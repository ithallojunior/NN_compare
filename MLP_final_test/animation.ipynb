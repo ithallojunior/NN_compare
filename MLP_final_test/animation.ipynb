{
 "cells": [
  {
   "cell_type": "markdown",
   "metadata": {},
   "source": [
    "## This code aims to generate an animation from the data from the ann"
   ]
  },
  {
   "cell_type": "code",
   "execution_count": 40,
   "metadata": {
    "collapsed": false
   },
   "outputs": [],
   "source": [
    "import numpy as np\n",
    "from sklearn.neural_network import MLPRegressor\n",
    "from sklearn import preprocessing\n",
    "from sklearn.cross_validation import train_test_split\n",
    "import pickle #saving to file\n",
    "import matplotlib.pyplot as plt\n",
    "import matplotlib.animation as animation\n",
    "\n"
   ]
  },
  {
   "cell_type": "markdown",
   "metadata": {},
   "source": [
    "## Preprocessing data"
   ]
  },
  {
   "cell_type": "code",
   "execution_count": 41,
   "metadata": {
    "collapsed": true
   },
   "outputs": [],
   "source": [
    "#this function reads the file \n",
    "def read_data(archive, rows, columns):\n",
    "    data = open(archive, 'r')\n",
    "    mylist = data.read().split()\n",
    "    data.close()\n",
    "    myarray = np.array(mylist).reshape(( rows, columns)).astype(float)\n",
    "    return myarray"
   ]
  },
  {
   "cell_type": "code",
   "execution_count": 42,
   "metadata": {
    "collapsed": false
   },
   "outputs": [
    {
     "name": "stdout",
     "output_type": "stream",
     "text": [
      "(72, 10)\n"
     ]
    }
   ],
   "source": [
    "# getting data and preprocessing\n",
    "data = read_data('../get_data_example/set.txt',72, 12)\n",
    "X = data[:, [0, 2, 4, 6, 7, 8, 9, 10, 11]]\n",
    "#print pre_X.shape, data.shape\n",
    "y  = data[:,1]\n",
    "#print y.shape\n",
    "\n",
    "#getting the time vector for plotting purposes\n",
    "time_stamp = np.zeros(data.shape[0])\n",
    "for i in xrange(data.shape[0]):\n",
    "        time_stamp[i] = i*(1.0/60.0)\n",
    "        \n",
    "#print X.shape, time_stamp.shape\n",
    "X = np.hstack((X, time_stamp.reshape((X.shape[0], 1))))\n",
    "print X.shape\n",
    "\n",
    "X_train, X_test, y_train, y_test = train_test_split(X, y, test_size=0.3, random_state=0)\n",
    "t_test = X_test[:,-1]\n",
    "t_train = X_train[:, -1]\n",
    "X_train_std = preprocessing.scale(X_train[:,0:-1])\n",
    "X_test_std = preprocessing.scale(X_test[:, 0:-1])"
   ]
  },
  {
   "cell_type": "code",
   "execution_count": 43,
   "metadata": {
    "collapsed": true
   },
   "outputs": [],
   "source": [
    "#Here comes the way to sort out the data according to one the elements of it\n",
    "test_sorted = np.hstack(\n",
    "    (t_test.reshape(X_test_std.shape[0], 1), X_test_std, y_test.reshape(X_test_std.shape[0], 1)))\n",
    "\n",
    "test_sorted = test_sorted[np.argsort(test_sorted[:,0])] #modified\n",
    "\n",
    "train_sorted = np.hstack((t_train.reshape(t_train.shape[0], 1), y_train.reshape(y_train.shape[0], 1) ))\n",
    "train_sorted = train_sorted[np.argsort(train_sorted[:,0])]"
   ]
  },
  {
   "cell_type": "markdown",
   "metadata": {},
   "source": [
    "## Importing ANN from file abd getting the position's vector"
   ]
  },
  {
   "cell_type": "code",
   "execution_count": 45,
   "metadata": {
    "collapsed": false
   },
   "outputs": [
    {
     "name": "stdout",
     "output_type": "stream",
     "text": [
      "Just the accuracy: 0.848830106498\n"
     ]
    },
    {
     "data": {
      "image/png": "[encoded data removed]",
      "text/plain": [
       "<matplotlib.figure.Figure at 0x113d660d0>"
      ]
     },
     "metadata": {},
     "output_type": "display_data"
    }
   ],
   "source": [
    "f = open('data.ann', 'r')\n",
    "nw = f.read()\n",
    "saved_ann = pickle.loads(nw)\n",
    "f.close()\n",
    "print \"Just the accuracy:\", saved_ann.score(X_test_std, y_test)\n",
    "#print X_test_std.shape, y_test.shape\n",
    "results = saved_ann.predict(test_sorted[:, 1:-1])\n",
    "%matplotlib inline\n",
    "plt.plot(test_sorted[:,0], results, 'r')\n",
    "plt.plot(time_stamp, y, 'b')\n",
    "plt.show()\n"
   ]
  },
  {
   "cell_type": "code",
   "execution_count": 25,
   "metadata": {
    "collapsed": false
   },
   "outputs": [],
   "source": [
    "angles = results*test_sorted[:, 0] # (rad/s)*s\n",
    "#I've to get 3 values in order to produce motion, to do so, \n",
    "#I chose to use the time stamp as the new zero of the system,\n",
    "# then, the next point is half way from it\n",
    "x2 = test_sorted[:, 0]+ angles/2.0\n",
    "x3 = test_sorted[:, 0]+ angles"
   ]
  },
  {
   "cell_type": "markdown",
   "metadata": {},
   "source": [
    "## Animation"
   ]
  },
  {
   "cell_type": "code",
   "execution_count": null,
   "metadata": {
    "collapsed": false
   },
   "outputs": [],
   "source": [
    "\n"
   ]
  },
  {
   "cell_type": "code",
   "execution_count": null,
   "metadata": {
    "collapsed": true
   },
   "outputs": [],
   "source": []
  }
 ],
 "metadata": {
  "kernelspec": {
   "display_name": "Python 2",
   "language": "python",
   "name": "python2"
  },
  "language_info": {
   "codemirror_mode": {
    "name": "ipython",
    "version": 2
   },
   "file_extension": ".py",
   "mimetype": "text/x-python",
   "name": "python",
   "nbconvert_exporter": "python",
   "pygments_lexer": "ipython2",
   "version": "2.7.12"
  }
 },
 "nbformat": 4,
 "nbformat_minor": 0
}
