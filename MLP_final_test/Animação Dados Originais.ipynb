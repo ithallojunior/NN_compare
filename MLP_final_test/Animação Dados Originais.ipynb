{
 "cells": [
  {
   "cell_type": "code",
   "execution_count": 1,
   "metadata": {
    "collapsed": false
   },
   "outputs": [],
   "source": [
    "# Double pendulum formula translated from the C code at\n",
    "# http://www.physics.usyd.edu.au/~wheat/dpend_html/solve_dpend.c\n",
    "\n",
    "import numpy as np\n",
    "import matplotlib.pyplot as plt\n",
    "import matplotlib.animation as animation\n"
   ]
  },
  {
   "cell_type": "code",
   "execution_count": 2,
   "metadata": {
    "collapsed": false
   },
   "outputs": [
    {
     "name": "stdout",
     "output_type": "stream",
     "text": [
      "(3, 3, 66)\n",
      "(66, 3)\n"
     ]
    }
   ],
   "source": [
    "import pickle\n",
    "arquivo = open(\"../xyz\", \"r\")\n",
    "\n",
    "X = pickle.loads(arquivo.read())\n",
    "print X.shape\n",
    "\n",
    "joelho = X[0,:,:].T\n",
    "trocanter = X[1,:,:].T\n",
    "tibia = X[2,:,:].T\n",
    "\n",
    "x_min = np.min(np.array([joelho[:, 0], trocanter[:, 0], tibia[:, 0]]))\n",
    "x_max = np.max(np.array([joelho[:, 0], trocanter[:, 0], tibia[:, 0]]))\n",
    "\n",
    "y_min = np.min(np.array([joelho[:, 1], trocanter[:, 1], tibia[:, 1]]))\n",
    "y_max = np.max(np.array([joelho[:, 1], trocanter[:, 1], tibia[:, 1]]))\n",
    "\n",
    "z_min = np.min(np.array([joelho[:, 2], trocanter[:, 2], tibia[:, 2]]))\n",
    "z_max = np.max(np.array([joelho[:, 2], trocanter[:, 2], tibia[:, 2]]))\n",
    "\n",
    "print joelho.shape"
   ]
  },
  {
   "cell_type": "code",
   "execution_count": 3,
   "metadata": {
    "collapsed": false
   },
   "outputs": [],
   "source": [
    "\n",
    "fig = plt.figure()\n",
    "ax = fig.add_subplot(111, autoscale_on=False, xlim=(x_min, x_max), ylim=(z_min, z_max))\n",
    "ax.grid()\n",
    "\n",
    "line, = ax.plot([], [], 'o-', lw=2)\n",
    "time_template = 'time = %.1fs'\n",
    "time_text = ax.text(0.05, 0.9, '', transform=ax.transAxes)\n"
   ]
  },
  {
   "cell_type": "code",
   "execution_count": 4,
   "metadata": {
    "collapsed": false
   },
   "outputs": [],
   "source": [
    "def init():\n",
    "    line.set_data([], [])\n",
    "    time_text.set_text('')\n",
    "    return line, time_text\n",
    "\n",
    "def animate(i):\n",
    "    thisx = [trocanter[i, 0], joelho[i, 0], tibia[i, 0]]\n",
    "    thisy = [trocanter[i, 2], joelho[i, 1], tibia[i, 2]]\n",
    "\n",
    "    line.set_data(thisx, thisy)\n",
    "    \n",
    "    return line, time_text\n",
    "\n",
    "ani = animation.FuncAnimation(fig, animate, np.arange(0, 65),\n",
    "    interval=25, blit=False, init_func=init)\n",
    "\n",
    "#ani.save('double_pendulum.mp4', fps=15)\n",
    "plt.show()"
   ]
  },
  {
   "cell_type": "code",
   "execution_count": null,
   "metadata": {
    "collapsed": true
   },
   "outputs": [],
   "source": []
  }
 ],
 "metadata": {
  "kernelspec": {
   "display_name": "Python 2",
   "language": "python",
   "name": "python2"
  },
  "language_info": {
   "codemirror_mode": {
    "name": "ipython",
    "version": 2
   },
   "file_extension": ".py",
   "mimetype": "text/x-python",
   "name": "python",
   "nbconvert_exporter": "python",
   "pygments_lexer": "ipython2",
   "version": "2.7.12"
  }
 },
 "nbformat": 4,
 "nbformat_minor": 0
}
