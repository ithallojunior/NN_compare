{
 "cells": [
  {
   "cell_type": "code",
   "execution_count": 48,
   "metadata": {
    "collapsed": false
   },
   "outputs": [],
   "source": [
    "# Double pendulum formula translated from the C code at\n",
    "# http://www.physics.usyd.edu.au/~wheat/dpend_html/solve_dpend.c\n",
    "\n",
    "from numpy import sin, cos, pi, array\n",
    "import numpy as np\n",
    "import matplotlib.pyplot as plt\n",
    "import scipy.integrate as integrate\n",
    "import matplotlib.animation as animation\n"
   ]
  },
  {
   "cell_type": "code",
   "execution_count": 49,
   "metadata": {
    "collapsed": false
   },
   "outputs": [
    {
     "name": "stdout",
     "output_type": "stream",
     "text": [
      "(3, 3, 66)\n",
      "(66, 3)\n"
     ]
    }
   ],
   "source": [
    "import pickle\n",
    "arquivo = open(\"../xyz\", \"r\")\n",
    "\n",
    "X = pickle.loads(arquivo.read())\n",
    "print X.shape\n",
    "\n",
    "joelho = X[0,:,:].T\n",
    "trocanter = X[1,:,:].T\n",
    "tibia = X[2,:,:].T\n",
    "\n",
    "x_min = np.min(np.array([joelho[:, 0], trocanter[:, 0], tibia[:, 0]]))\n",
    "x_max = np.max(np.array([joelho[:, 0], trocanter[:, 0], tibia[:, 0]]))\n",
    "\n",
    "y_min = np.min(np.array([joelho[:, 1], trocanter[:, 1], tibia[:, 1]]))\n",
    "y_max = np.max(np.array([joelho[:, 1], trocanter[:, 1], tibia[:, 1]]))\n",
    "\n",
    "z_min = np.min(np.array([joelho[:, 2], trocanter[:, 2], tibia[:, 2]]))\n",
    "z_max = np.max(np.array([joelho[:, 2], trocanter[:, 2], tibia[:, 2]]))\n",
    "\n",
    "print joelho.shape"
   ]
  },
  {
   "cell_type": "code",
   "execution_count": 50,
   "metadata": {
    "collapsed": true
   },
   "outputs": [],
   "source": [
    "G =  9.8 # acceleration due to gravity, in m/s^2\n",
    "L1 = 1.0 # length of pendulum 1 in m\n",
    "L2 = 1.0 # length of pendulum 2 in m\n",
    "M1 = 1.0 # mass of pendulum 1 in kg\n",
    "M2 = 1.0 # mass of pendulum 2 in kg"
   ]
  },
  {
   "cell_type": "code",
   "execution_count": 51,
   "metadata": {
    "collapsed": true
   },
   "outputs": [],
   "source": [
    "\n",
    "def derivs(state, t):\n",
    "\n",
    "    dydx = np.zeros_like(state)\n",
    "    dydx[0] = state[1]\n",
    "\n",
    "    del_ = state[2]-state[0]\n",
    "    den1 = (M1+M2)*L1 - M2*L1*cos(del_)*cos(del_)\n",
    "    dydx[1] = (M2*L1*state[1]*state[1]*sin(del_)*cos(del_)\n",
    "               + M2*G*sin(state[2])*cos(del_) + M2*L2*state[3]*state[3]*sin(del_)\n",
    "               - (M1+M2)*G*sin(state[0]))/den1\n",
    "\n",
    "    dydx[2] = state[3]\n",
    "\n",
    "    den2 = (L2/L1)*den1\n",
    "    dydx[3] = (-M2*L2*state[3]*state[3]*sin(del_)*cos(del_)\n",
    "               + (M1+M2)*G*sin(state[0])*cos(del_)\n",
    "               - (M1+M2)*L1*state[1]*state[1]*sin(del_)\n",
    "               - (M1+M2)*G*sin(state[2]))/den2\n",
    "\n",
    "    return dydx\n"
   ]
  },
  {
   "cell_type": "code",
   "execution_count": 52,
   "metadata": {
    "collapsed": true
   },
   "outputs": [],
   "source": [
    "# create a time array from 0..100 sampled at 0.05 second steps\n",
    "dt = 0.05\n",
    "t = np.arange(0.0, 20, dt)\n",
    "\n",
    "# th1 and th2 are the initial angles (degrees)\n",
    "# w10 and w20 are the initial angular velocities (degrees per second)\n",
    "th1 = 120.0\n",
    "w1 = 0.0\n",
    "th2 = -10.0\n",
    "w2 = 0.0\n",
    "\n",
    "rad = pi/180"
   ]
  },
  {
   "cell_type": "code",
   "execution_count": 53,
   "metadata": {
    "collapsed": false
   },
   "outputs": [],
   "source": [
    "# initial state\n",
    "state = np.array([th1, w1, th2, w2])*pi/180.\n",
    "\n",
    "# integrate your ODE using scipy.integrate.\n",
    "y = integrate.odeint(derivs, state, t)\n",
    "\n",
    "x1 = L1*sin(y[:,0])\n",
    "y1 = -L1*cos(y[:,0])\n",
    "\n",
    "x2 = L2*sin(y[:,2]) + x1\n",
    "y2 = -L2*cos(y[:,2]) + y1\n",
    "\n",
    "fig = plt.figure()\n",
    "ax = fig.add_subplot(111, autoscale_on=False, xlim=(x_min, x_max), ylim=(z_min, z_max))\n",
    "ax.grid()\n",
    "\n",
    "line, = ax.plot([], [], 'o-', lw=2)\n",
    "time_template = 'time = %.1fs'\n",
    "time_text = ax.text(0.05, 0.9, '', transform=ax.transAxes)\n"
   ]
  },
  {
   "cell_type": "code",
   "execution_count": null,
   "metadata": {
    "collapsed": false
   },
   "outputs": [],
   "source": [
    "def init():\n",
    "    line.set_data([], [])\n",
    "    time_text.set_text('')\n",
    "    return line, time_text\n",
    "\n",
    "def animate(i):\n",
    "    thisx = [trocanter[i, 0], joelho[i, 0], tibia[i, 0]]\n",
    "    thisy = [trocanter[i, 2], joelho[i, 1], tibia[i, 2]]\n",
    "\n",
    "    line.set_data(thisx, thisy)\n",
    "    \n",
    "    return line, time_text\n",
    "\n",
    "ani = animation.FuncAnimation(fig, animate, np.arange(1, 66),\n",
    "    interval=25, blit=False, init_func=init)\n",
    "\n",
    "#ani.save('double_pendulum.mp4', fps=15)\n",
    "plt.show()"
   ]
  },
  {
   "cell_type": "code",
   "execution_count": null,
   "metadata": {
    "collapsed": true
   },
   "outputs": [],
   "source": []
  }
 ],
 "metadata": {
  "kernelspec": {
   "display_name": "Python 2",
   "language": "python",
   "name": "python2"
  },
  "language_info": {
   "codemirror_mode": {
    "name": "ipython",
    "version": 2
   },
   "file_extension": ".py",
   "mimetype": "text/x-python",
   "name": "python",
   "nbconvert_exporter": "python",
   "pygments_lexer": "ipython2",
   "version": "2.7.12"
  }
 },
 "nbformat": 4,
 "nbformat_minor": 0
}
