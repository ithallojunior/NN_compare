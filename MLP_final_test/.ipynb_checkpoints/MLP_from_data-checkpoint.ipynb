{
 "cells": [
  {
   "cell_type": "code",
   "execution_count": 1,
   "metadata": {
    "collapsed": false
   },
   "outputs": [
    {
     "data": {
      "text/plain": [
       "'\\nThis code shows an example for using the imported data from a modified\\n.mat file into a artificial neural network and its training\\n'"
      ]
     },
     "execution_count": 1,
     "metadata": {},
     "output_type": "execute_result"
    }
   ],
   "source": [
    "\"\"\"\n",
    "This code shows an example for using the imported data from a modified\n",
    ".mat file into a artificial neural network and its training\n",
    "\"\"\""
   ]
  },
  {
   "cell_type": "code",
   "execution_count": 74,
   "metadata": {
    "collapsed": false
   },
   "outputs": [],
   "source": [
    "import numpy as np\n",
    "from sklearn.neural_network import MLPRegressor\n",
    "from sklearn import preprocessing\n",
    "from sklearn.cross_validation import train_test_split\n",
    "import matplotlib.pyplot as plt"
   ]
  },
  {
   "cell_type": "code",
   "execution_count": 80,
   "metadata": {
    "collapsed": true
   },
   "outputs": [],
   "source": [
    "#this function reads the file \n",
    "def read_data(archive, rows, columns):\n",
    "    data = open(archive, 'r')\n",
    "    mylist = data.read().split()\n",
    "    data.close()\n",
    "    myarray = np.array(mylist).reshape(( rows, columns)).astype(float)\n",
    "    return myarray\n",
    "    "
   ]
  },
  {
   "cell_type": "code",
   "execution_count": 105,
   "metadata": {
    "collapsed": false
   },
   "outputs": [],
   "source": [
    "data = read_data('set.txt',72, 12)\n",
    "X = data[:, [0, 2, 4, 6, 7, 8, 9, 10, 11]]\n",
    "#print pre_X.shape, data.shape\n",
    "y  = data[:,1]\n",
    "#print y.shape\n",
    "time_stamp = np.zeros(data.shape[0])\n",
    "for i in xrange(data.shape[0]):\n",
    "        time_stamp[i] = i*(1.0/60.0)\n",
    "#print X.shape, time_stamp.shape\n",
    "X = np.hstack((X, time_stamp.reshape((X.shape[0], 1))))\n",
    "X_train, X_test, y_train, y_test = train_test_split(X, y, test_size=0.4, random_state=0)\n",
    "t_test = X_test[:,-1]\n",
    "X_train_std = preprocessing.scale(X_train[:,0:-1])\n",
    "X_test_std = preprocessing.scale(X_test[:, 0:-1])"
   ]
  },
  {
   "cell_type": "code",
   "execution_count": 106,
   "metadata": {
    "collapsed": false
   },
   "outputs": [
    {
     "data": {
      "text/plain": [
       "MLPRegressor(activation='tanh', algorithm='sgd', alpha=0.01,\n",
       "       batch_size='auto', beta_1=0.9, beta_2=0.999, early_stopping=False,\n",
       "       epsilon=1e-08, hidden_layer_sizes=40, learning_rate='constant',\n",
       "       learning_rate_init=0.001, max_iter=10000, momentum=0.8,\n",
       "       nesterovs_momentum=True, power_t=0.5, random_state=None,\n",
       "       shuffle=False, tol=1e-07, validation_fraction=0.1, verbose=False,\n",
       "       warm_start=False)"
      ]
     },
     "execution_count": 106,
     "metadata": {},
     "output_type": "execute_result"
    }
   ],
   "source": [
    " #  Artificial Neural Network\n",
    "reg = MLPRegressor(hidden_layer_sizes=(40),activation='tanh', algorithm='sgd', alpha=0.01, learning_rate='constant',\n",
    "                   max_iter=10000, random_state=None, verbose=False, warm_start=False, momentum=0.8, tol=10e-8, shuffle=False)\n",
    "\n",
    "reg.fit(X_train_std, y_train)"
   ]
  },
  {
   "cell_type": "code",
   "execution_count": 107,
   "metadata": {
    "collapsed": false
   },
   "outputs": [],
   "source": [
    "vector_sorted = np.hstack(\n",
    "    (t_test.reshape(X_test_std.shape[0], 1), X_test_std, y_test.reshape(X_test_std.shape[0], 1)))\n",
    "#print vector_results.shape\n",
    "vector_sorted = np.sort(vector_sorted,axis=0)"
   ]
  },
  {
   "cell_type": "code",
   "execution_count": 108,
   "metadata": {
    "collapsed": false
   },
   "outputs": [
    {
     "data": {
      "image/png": "[encoded data removed]",
      "text/plain": [
       "<matplotlib.figure.Figure at 0x113cf9c10>"
      ]
     },
     "metadata": {},
     "output_type": "display_data"
    },
    {
     "name": "stdout",
     "output_type": "stream",
     "text": [
      "Accuracy: 0.640697149849\n"
     ]
    }
   ],
   "source": [
    "%matplotlib inline\n",
    "results = reg.predict(vector_sorted[:, 1:-1])\n",
    "plt.plot(vector_sorted[:, 0], results, c='r') # ( sorted time, results)\n",
    "plt.plot(vector_sorted[:, 0], vector_sorted[:,-1], c='b')\n",
    "\n",
    "plt.show()\n",
    "print \"Accuracy:\", reg.score(X_test_std, y_test)"
   ]
  },
  {
   "cell_type": "code",
   "execution_count": 17,
   "metadata": {
    "collapsed": false
   },
   "outputs": [
    {
     "name": "stdout",
     "output_type": "stream",
     "text": [
      "[[1 2]\n",
      " [3 4]\n",
      " [5 6]] \n",
      "\n",
      "\n",
      "[2 4 6]\n",
      "[[1]\n",
      " [3]\n",
      " [5]]\n",
      "[2 4 6]\n"
     ]
    }
   ],
   "source": [
    "#example for handling examples of  matrices\n",
    "x = np.array([[1, 2], [3, 4], [5, 6]])\n",
    "print x, '\\n\\n'\n",
    "print x[:, 1]\n",
    "print x[:, 0].reshape(3,1)\n",
    "print x[:, -1]"
   ]
  },
  {
   "cell_type": "code",
   "execution_count": 34,
   "metadata": {
    "collapsed": false
   },
   "outputs": [
    {
     "name": "stdout",
     "output_type": "stream",
     "text": [
      "1.2\n"
     ]
    }
   ],
   "source": [
    "print 72.0/60.0\n"
   ]
  },
  {
   "cell_type": "code",
   "execution_count": 46,
   "metadata": {
    "collapsed": false
   },
   "outputs": [
    {
     "name": "stdout",
     "output_type": "stream",
     "text": [
      "[ 0.          0.01666667  0.03333333  0.05        0.06666667  0.08333333\n",
      "  0.1         0.11666667  0.13333333  0.15        0.16666667  0.18333333\n",
      "  0.2         0.21666667  0.23333333  0.25        0.26666667  0.28333333\n",
      "  0.3         0.31666667  0.33333333  0.35        0.36666667  0.38333333\n",
      "  0.4         0.41666667  0.43333333  0.45        0.46666667  0.48333333\n",
      "  0.5         0.51666667  0.53333333  0.55        0.56666667  0.58333333\n",
      "  0.6         0.61666667  0.63333333  0.65        0.66666667  0.68333333\n",
      "  0.7         0.71666667  0.73333333  0.75        0.76666667  0.78333333\n",
      "  0.8         0.81666667  0.83333333  0.85        0.86666667  0.88333333\n",
      "  0.9         0.91666667  0.93333333  0.95        0.96666667  0.98333333\n",
      "  1.          1.01666667  1.03333333  1.05        1.06666667  1.08333333\n",
      "  1.1         1.11666667  1.13333333  1.15        1.16666667  1.18333333] \n",
      "\n",
      "\n",
      "[ 0.06666667  0.11666667  0.36666667  0.43333333  0.45        0.46666667\n",
      "  0.5         0.51666667  0.55        0.56666667  0.7         0.71666667\n",
      "  0.8         0.83333333  0.85        0.91666667  0.93333333  0.98333333\n",
      "  1.03333333  1.08333333  1.16666667  1.18333333]\n"
     ]
    }
   ],
   "source": [
    "print time_stamp, '\\n\\n'\n",
    "print t_test\n"
   ]
  },
  {
   "cell_type": "code",
   "execution_count": null,
   "metadata": {
    "collapsed": true
   },
   "outputs": [],
   "source": [
    "time"
   ]
  }
 ],
 "metadata": {
  "kernelspec": {
   "display_name": "Python 2",
   "language": "python",
   "name": "python2"
  },
  "language_info": {
   "codemirror_mode": {
    "name": "ipython",
    "version": 2
   },
   "file_extension": ".py",
   "mimetype": "text/x-python",
   "name": "python",
   "nbconvert_exporter": "python",
   "pygments_lexer": "ipython2",
   "version": "2.7.12"
  }
 },
 "nbformat": 4,
 "nbformat_minor": 0
}
