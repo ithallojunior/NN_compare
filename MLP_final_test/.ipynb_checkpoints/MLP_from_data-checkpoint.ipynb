{
 "cells": [
  {
   "cell_type": "code",
   "execution_count": 1,
   "metadata": {
    "collapsed": false
   },
   "outputs": [
    {
     "data": {
      "text/plain": [
       "'\\nThis code shows an example for using the imported data from a modified\\n.mat file into a artificial neural network and its training\\n'"
      ]
     },
     "execution_count": 1,
     "metadata": {},
     "output_type": "execute_result"
    }
   ],
   "source": [
    "\"\"\"\n",
    "This code shows an example for using the imported data from a modified\n",
    ".mat file into a artificial neural network and its training\n",
    "\"\"\""
   ]
  },
  {
   "cell_type": "code",
   "execution_count": 52,
   "metadata": {
    "collapsed": false
   },
   "outputs": [],
   "source": [
    "import numpy as np\n",
    "from sklearn.neural_network import MLPRegressor\n",
    "from sklearn import preprocessing\n",
    "from sklearn.cross_validation import train_test_split\n",
    "import matplotlib.pyplot as plt\n",
    "import matplotlib.patches as mpatches\n"
   ]
  },
  {
   "cell_type": "code",
   "execution_count": 46,
   "metadata": {
    "collapsed": true
   },
   "outputs": [],
   "source": [
    "#this function reads the file \n",
    "def read_data(archive, rows, columns):\n",
    "    data = open(archive, 'r')\n",
    "    mylist = data.read().split()\n",
    "    data.close()\n",
    "    myarray = np.array(mylist).reshape(( rows, columns)).astype(float)\n",
    "    return myarray\n",
    "    "
   ]
  },
  {
   "cell_type": "code",
   "execution_count": 47,
   "metadata": {
    "collapsed": false
   },
   "outputs": [
    {
     "name": "stdout",
     "output_type": "stream",
     "text": [
      "(72, 10)\n"
     ]
    }
   ],
   "source": [
    "data = read_data('../get_data_example/set.txt',72, 12)\n",
    "X = data[:, [0, 2, 4, 6, 7, 8, 9, 10, 11]]\n",
    "#print pre_X.shape, data.shape\n",
    "y  = data[:,1]\n",
    "#print y.shape\n",
    "\n",
    "#getting the time vector for plotting purposes\n",
    "time_stamp = np.zeros(data.shape[0])\n",
    "for i in xrange(data.shape[0]):\n",
    "        time_stamp[i] = i*(1.0/60.0)\n",
    "        \n",
    "#print X.shape, time_stamp.shape\n",
    "X = np.hstack((X, time_stamp.reshape((X.shape[0], 1))))\n",
    "print X.shape\n",
    "\n",
    "X_train, X_test, y_train, y_test = train_test_split(X, y, test_size=0.4, random_state=0)\n",
    "t_test = X_test[:,-1]\n",
    "t_train = X_train[:, -1]\n",
    "X_train_std = preprocessing.scale(X_train[:,0:-1])\n",
    "X_test_std = preprocessing.scale(X_test[:, 0:-1])"
   ]
  },
  {
   "cell_type": "code",
   "execution_count": 48,
   "metadata": {
    "collapsed": false
   },
   "outputs": [
    {
     "data": {
      "text/plain": [
       "MLPRegressor(activation='tanh', algorithm='sgd', alpha=0.1, batch_size='auto',\n",
       "       beta_1=0.9, beta_2=0.999, early_stopping=False, epsilon=1e-08,\n",
       "       hidden_layer_sizes=(40, 10), learning_rate='constant',\n",
       "       learning_rate_init=0.001, max_iter=1000, momentum=0.8,\n",
       "       nesterovs_momentum=True, power_t=0.5, random_state=None,\n",
       "       shuffle=False, tol=1e-07, validation_fraction=0.1, verbose=False,\n",
       "       warm_start=False)"
      ]
     },
     "execution_count": 48,
     "metadata": {},
     "output_type": "execute_result"
    }
   ],
   "source": [
    " #  Artificial Neural Network\n",
    "reg = MLPRegressor(hidden_layer_sizes=(40,10),activation='tanh', algorithm='sgd', alpha=0.1, learning_rate='constant',\n",
    "                   max_iter=1000, random_state=None, verbose=False, warm_start=False,\n",
    "                   momentum=0.8, tol=10e-8, shuffle=False)\n",
    "\n",
    "reg.fit(X_train_std, y_train)"
   ]
  },
  {
   "cell_type": "code",
   "execution_count": 49,
   "metadata": {
    "collapsed": false
   },
   "outputs": [],
   "source": [
    "#Here comes the way to sort out the data according to one the elements of it\n",
    "test_sorted = np.hstack(\n",
    "    (t_test.reshape(X_test_std.shape[0], 1), X_test_std, y_test.reshape(X_test_std.shape[0], 1)))\n",
    "#print vector_sorted.shape, t_test.reshape(X_test_std.shape[0], 1).shape, X_test_std.shape, \n",
    "#y_test.reshape(X_test_std.shape[0], 1).shape, '\\n'\n",
    "\n",
    "#print vector_sorted[:, 0]\n",
    "#print t_test.reshape(X_test_std.shape[0], 1)\n",
    "\n",
    "    \n",
    "#print t_test.reshape(X_test_std.shape[0], 1)\n",
    "test_sorted = test_sorted[np.argsort(test_sorted[:,0])] #modified\n",
    "\n",
    "train_sorted = np.hstack((t_train.reshape(t_train.shape[0], 1), y_train.reshape(y_train.shape[0], 1) ))\n",
    "train_sorted = train_sorted[np.argsort(train_sorted[:,0])]\n",
    "#print train_sorted\n"
   ]
  },
  {
   "cell_type": "code",
   "execution_count": 54,
   "metadata": {
    "collapsed": false
   },
   "outputs": [
    {
     "data": {
      "image/png": "[encoded data removed]",
      "text/plain": [
       "<matplotlib.figure.Figure at 0x113c07fd0>"
      ]
     },
     "metadata": {},
     "output_type": "display_data"
    },
    {
     "name": "stdout",
     "output_type": "stream",
     "text": [
      "Accuracy: 0.629976322965\n"
     ]
    }
   ],
   "source": [
    "%matplotlib inline\n",
    "#print vector_sorted\n",
    "results = reg.predict(test_sorted[:, 1:-1])\n",
    "plt.plot(test_sorted[:, 0], results, c='r') # ( sorted time, results)\n",
    "plt.plot(train_sorted[:, 0], train_sorted[:,1], c='b') #expected\n",
    "plt.xlabel(\"Time(s)\")\n",
    "plt.ylabel(\"Angular velocities(rad/s)\")\n",
    "red_patch = mpatches.Patch(color='red', label='Predicted')\n",
    "blue_patch = mpatches.Patch(color='blue', label ='Expected')\n",
    "plt.legend(handles=[red_patch, blue_patch])\n",
    "plt.show()\n",
    "\n",
    "print \"Accuracy:\", reg.score(X_test_std, y_test)"
   ]
  },
  {
   "cell_type": "code",
   "execution_count": 12,
   "metadata": {
    "collapsed": false
   },
   "outputs": [
    {
     "data": {
      "image/png": "[encoded data removed]",
      "text/plain": [
       "<matplotlib.figure.Figure at 0x11365bf50>"
      ]
     },
     "metadata": {},
     "output_type": "display_data"
    }
   ],
   "source": [
    "#Full expected result from a patient\n",
    "%matplotlib inline\n",
    "plt.plot(time_stamp, y,'--.', c='r')\n",
    "plt.xlabel(\"Time(s)\")\n",
    "plt.ylabel(\"Angular velocities(rad/s)\")\n",
    "plt.title(\"Resuts from patient:\\n\"\n",
    "         \" Angular velocities for the right knee\")\n",
    "plt.show()"
   ]
  },
  {
   "cell_type": "code",
   "execution_count": 101,
   "metadata": {
    "collapsed": false
   },
   "outputs": [
    {
     "name": "stdout",
     "output_type": "stream",
     "text": [
      "[[ 1  2 31 32]\n",
      " [ 3  4 41 42]\n",
      " [ 5  6 61 62]] \n",
      "\n",
      "\n",
      "[ 1  2 31 32  3  4 41 42  5  6 61 62] \n",
      "\n",
      "[[ 1  2 31 32]\n",
      " [ 3  4 41 42]\n",
      " [ 5  6 61 62]] \n",
      "\n",
      "[2 4 6] \n",
      "\n",
      "[[1]\n",
      " [3]\n",
      " [5]] \n",
      "\n",
      "[[ 2 31]\n",
      " [ 4 41]\n",
      " [ 6 61]]\n"
     ]
    }
   ],
   "source": [
    "#example for handling examples of  matrices\n",
    "x = np.array([[1, 2, 31, 32], [3, 4, 41, 42], [5, 6, 61,62]])\n",
    "\n",
    "print x, '\\n\\n'\n",
    "print np.hstack((x[0,:], x[1,:], x[2,:])), '\\n'\n",
    "print np.hstack((x[0,:], x[1,:], x[2,:])).reshape(3, 4), '\\n'\n",
    "print x[:, 1], '\\n'\n",
    "print x[:, 0].reshape(3,1), '\\n'\n",
    "print x[:, 1:-1]"
   ]
  },
  {
   "cell_type": "code",
   "execution_count": null,
   "metadata": {
    "collapsed": true
   },
   "outputs": [],
   "source": []
  }
 ],
 "metadata": {
  "kernelspec": {
   "display_name": "Python 2",
   "language": "python",
   "name": "python2"
  },
  "language_info": {
   "codemirror_mode": {
    "name": "ipython",
    "version": 2
   },
   "file_extension": ".py",
   "mimetype": "text/x-python",
   "name": "python",
   "nbconvert_exporter": "python",
   "pygments_lexer": "ipython2",
   "version": "2.7.12"
  }
 },
 "nbformat": 4,
 "nbformat_minor": 0
}
