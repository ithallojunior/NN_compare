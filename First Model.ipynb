{
 "cells": [
  {
   "cell_type": "code",
   "execution_count": 1,
   "metadata": {
    "collapsed": false
   },
   "outputs": [
    {
     "name": "stderr",
     "output_type": "stream",
     "text": [
      "/Users/ithallo/anaconda/lib/python2.7/site-packages/pandas/io/data.py:35: FutureWarning: \n",
      "The pandas.io.data module is moved to a separate package (pandas-datareader) and will be removed from pandas in a future version.\n",
      "After installing the pandas-datareader package (https://github.com/pydata/pandas-datareader), you can change the import ``from pandas.io import data, wb`` to ``from pandas_datareader import data, wb``.\n",
      "  FutureWarning)\n"
     ]
    }
   ],
   "source": [
    "import pandas.io.data as web\n",
    "import datetime\n",
    "\n",
    "start = datetime.datetime(2014,1,1)\n",
    "end = datetime.datetime(2016, 1, 1)\n",
    "\n",
    "df = web.DataReader('F', 'yahoo', start, end)"
   ]
  },
  {
   "cell_type": "code",
   "execution_count": 2,
   "metadata": {
    "collapsed": false,
    "scrolled": true
   },
   "outputs": [
    {
     "name": "stdout",
     "output_type": "stream",
     "text": [
      "[[  1.54200000e+01   1.54500000e+01   1.52800000e+01 ...,   3.15285000e+07\n",
      "    1.37524900e+01   1.00000000e+00]\n",
      " [  1.55200000e+01   1.56400000e+01   1.53000000e+01 ...,   4.61223000e+07\n",
      "    1.38148400e+01   1.00000000e+00]\n",
      " [  1.57200000e+01   1.57600000e+01   1.55200000e+01 ...,   4.26576000e+07\n",
      "    1.38771890e+01  -1.00000000e+00]\n",
      " ..., \n",
      " [  1.42800000e+01   1.43400000e+01   1.41600000e+01 ...,   1.36975000e+07\n",
      "    1.35677140e+01   1.00000000e+00]\n",
      " [  1.42800000e+01   1.43000000e+01   1.41500000e+01 ...,   1.88678000e+07\n",
      "    1.36155540e+01  -1.00000000e+00]\n",
      " [  1.42300000e+01   1.42600000e+01   1.41200000e+01 ...,   1.38003000e+07\n",
      "    1.35581460e+01  -1.00000000e+00]]\n"
     ]
    }
   ],
   "source": [
    "import numpy as np\n",
    "X = df.as_matrix()\n",
    "result = np.where(X[1:, 5] > X[0:-1, 5], 1, -1)\n",
    "\n",
    "X = np.hstack((X[0:-1,:], result.reshape((result.shape[0],1))))\n",
    "print X\n",
    "NUM_DAYS = 30\n",
    "NUM_COLS = X.shape[1]\n",
    "\n",
    "new_X = np.array([])\n",
    "for i in np.arange(NUM_DAYS - 1, X.shape[0]):\n",
    "    x = X[i - (NUM_DAYS - 1) : i+1, :].ravel()\n",
    "    if new_X.shape[0] == 0:\n",
    "        new_X = x\n",
    "    else:\n",
    "        new_X = np.vstack((new_X, x))\n",
    "        \n",
    "y = new_X[1:, -1]\n",
    "X = new_X[0:-1, :-1]\n",
    "    "
   ]
  },
  {
   "cell_type": "code",
   "execution_count": 3,
   "metadata": {
    "collapsed": false
   },
   "outputs": [],
   "source": [
    "from sklearn.cross_validation import train_test_split\n",
    "X_train, X_test, y_train, y_test = train_test_split(X, y, test_size=0.3, \n",
    "                                                    random_state=0)\n",
    "\n",
    "from sklearn.preprocessing import StandardScaler\n",
    "sc = StandardScaler()\n",
    "sc.fit(X_train)\n",
    "X_train_std = sc.transform(X_train)\n",
    "X_test_std = sc.transform(X_test)\n",
    "\n",
    "X_combined_std = np.vstack((X_train_std, X_test_std))\n",
    "y_combined = np.hstack((y_train, y_test))\n",
    "\n"
   ]
  },
  {
   "cell_type": "code",
   "execution_count": 4,
   "metadata": {
    "collapsed": false
   },
   "outputs": [
    {
     "data": {
      "text/plain": [
       "SVC(C=0.5, cache_size=200, class_weight=None, coef0=0.0,\n",
       "  decision_function_shape=None, degree=3, gamma=0.01, kernel='rbf',\n",
       "  max_iter=-1, probability=False, random_state=0, shrinking=True,\n",
       "  tol=0.001, verbose=False)"
      ]
     },
     "execution_count": 4,
     "metadata": {},
     "output_type": "execute_result"
    }
   ],
   "source": [
    "from sklearn.svm import SVC\n",
    "svm = SVC(kernel='rbf', random_state=0, gamma=0.01, C=0.5)\n",
    "svm.fit(X_train_std, y_train)"
   ]
  },
  {
   "cell_type": "code",
   "execution_count": 5,
   "metadata": {
    "collapsed": false
   },
   "outputs": [
    {
     "name": "stdout",
     "output_type": "stream",
     "text": [
      "Accuracy: 0.47\n"
     ]
    }
   ],
   "source": [
    "y_pred = svm.predict(X_test_std)\n",
    "from sklearn.metrics import accuracy_score\n",
    "print ('Accuracy: %.2f' % accuracy_score(y_test, y_pred))"
   ]
  },
  {
   "cell_type": "code",
   "execution_count": 6,
   "metadata": {
    "collapsed": false
   },
   "outputs": [
    {
     "name": "stderr",
     "output_type": "stream",
     "text": [
      "/Users/ithallo/anaconda/lib/python2.7/site-packages/matplotlib/font_manager.py:273: UserWarning: Matplotlib is building the font cache using fc-list. This may take a moment.\n",
      "  warnings.warn('Matplotlib is building the font cache using fc-list. This may take a moment.')\n"
     ]
    },
    {
     "data": {
      "text/plain": [
       "<matplotlib.axes._subplots.AxesSubplot at 0x117389650>"
      ]
     },
     "execution_count": 6,
     "metadata": {},
     "output_type": "execute_result"
    },
    {
     "data": {
      "image/png": "[encoded data removed]",
      "text/plain": [
       "<matplotlib.figure.Figure at 0x1170cfcd0>"
      ]
     },
     "metadata": {},
     "output_type": "display_data"
    }
   ],
   "source": [
    "%matplotlib inline\n",
    "import matplotlib.pyplot as plt\n",
    "\n",
    "df['Adj Close'].plot()"
   ]
  },
  {
   "cell_type": "code",
   "execution_count": 7,
   "metadata": {
    "collapsed": true
   },
   "outputs": [],
   "source": [
    "# Set the parameters by cross-validation\n",
    "tuned_parameters = [{'kernel': ['rbf'], 'gamma': [0.1, 1e-2, 1e-3, 1e-4, 1e-5],\n",
    "                     'C': [0.1, 0.5, 1, 10, 100, 1000]},\n",
    "                    {'kernel': ['linear'], 'C': [1, 10, 100, 1000]}]\n",
    "\n",
    "scores = ['precision', 'recall']\n"
   ]
  },
  {
   "cell_type": "code",
   "execution_count": 14,
   "metadata": {
    "collapsed": false
   },
   "outputs": [
    {
     "name": "stdout",
     "output_type": "stream",
     "text": [
      "# Tuning hyper-parameters for precision\n",
      "()\n"
     ]
    },
    {
     "name": "stderr",
     "output_type": "stream",
     "text": [
      "/Users/roberto/anaconda2/lib/python2.7/site-packages/sklearn/metrics/classification.py:1074: UndefinedMetricWarning: Precision is ill-defined and being set to 0.0 in labels with no predicted samples.\n",
      "  'precision', 'predicted', average, warn_for)\n"
     ]
    },
    {
     "name": "stdout",
     "output_type": "stream",
     "text": [
      "Best parameters set found on development set:\n",
      "()\n",
      "{'kernel': 'rbf', 'C': 0.5, 'gamma': 0.01}\n",
      "()\n",
      "Grid scores on development set:\n",
      "()\n",
      "0.267 (+/-0.006) for {'kernel': 'rbf', 'C': 0.1, 'gamma': 0.1}\n",
      "0.267 (+/-0.006) for {'kernel': 'rbf', 'C': 0.1, 'gamma': 0.01}\n",
      "0.267 (+/-0.006) for {'kernel': 'rbf', 'C': 0.1, 'gamma': 0.001}\n",
      "0.267 (+/-0.006) for {'kernel': 'rbf', 'C': 0.1, 'gamma': 0.0001}\n",
      "0.267 (+/-0.006) for {'kernel': 'rbf', 'C': 0.1, 'gamma': 1e-05}\n",
      "0.267 (+/-0.006) for {'kernel': 'rbf', 'C': 0.5, 'gamma': 0.1}\n",
      "0.548 (+/-0.200) for {'kernel': 'rbf', 'C': 0.5, 'gamma': 0.01}\n",
      "0.450 (+/-0.320) for {'kernel': 'rbf', 'C': 0.5, 'gamma': 0.001}\n",
      "0.267 (+/-0.006) for {'kernel': 'rbf', 'C': 0.5, 'gamma': 0.0001}\n",
      "0.267 (+/-0.006) for {'kernel': 'rbf', 'C': 0.5, 'gamma': 1e-05}\n",
      "0.267 (+/-0.006) for {'kernel': 'rbf', 'C': 1, 'gamma': 0.1}\n",
      "0.500 (+/-0.054) for {'kernel': 'rbf', 'C': 1, 'gamma': 0.01}\n",
      "0.503 (+/-0.120) for {'kernel': 'rbf', 'C': 1, 'gamma': 0.001}\n",
      "0.267 (+/-0.006) for {'kernel': 'rbf', 'C': 1, 'gamma': 0.0001}\n",
      "0.267 (+/-0.006) for {'kernel': 'rbf', 'C': 1, 'gamma': 1e-05}\n",
      "0.267 (+/-0.006) for {'kernel': 'rbf', 'C': 10, 'gamma': 0.1}\n",
      "0.489 (+/-0.113) for {'kernel': 'rbf', 'C': 10, 'gamma': 0.01}\n",
      "0.516 (+/-0.055) for {'kernel': 'rbf', 'C': 10, 'gamma': 0.001}\n",
      "0.510 (+/-0.027) for {'kernel': 'rbf', 'C': 10, 'gamma': 0.0001}\n",
      "0.267 (+/-0.006) for {'kernel': 'rbf', 'C': 10, 'gamma': 1e-05}\n",
      "0.267 (+/-0.006) for {'kernel': 'rbf', 'C': 100, 'gamma': 0.1}\n",
      "0.489 (+/-0.113) for {'kernel': 'rbf', 'C': 100, 'gamma': 0.01}\n",
      "0.530 (+/-0.133) for {'kernel': 'rbf', 'C': 100, 'gamma': 0.001}\n",
      "0.522 (+/-0.105) for {'kernel': 'rbf', 'C': 100, 'gamma': 0.0001}\n",
      "0.501 (+/-0.112) for {'kernel': 'rbf', 'C': 100, 'gamma': 1e-05}\n",
      "0.267 (+/-0.006) for {'kernel': 'rbf', 'C': 1000, 'gamma': 0.1}\n",
      "0.489 (+/-0.113) for {'kernel': 'rbf', 'C': 1000, 'gamma': 0.01}\n",
      "0.502 (+/-0.125) for {'kernel': 'rbf', 'C': 1000, 'gamma': 0.001}\n",
      "0.539 (+/-0.117) for {'kernel': 'rbf', 'C': 1000, 'gamma': 0.0001}\n",
      "0.486 (+/-0.092) for {'kernel': 'rbf', 'C': 1000, 'gamma': 1e-05}\n",
      "0.489 (+/-0.083) for {'kernel': 'linear', 'C': 1}\n",
      "0.490 (+/-0.129) for {'kernel': 'linear', 'C': 10}\n",
      "0.489 (+/-0.080) for {'kernel': 'linear', 'C': 100}\n",
      "0.492 (+/-0.074) for {'kernel': 'linear', 'C': 1000}\n",
      "()\n",
      "Detailed classification report:\n",
      "()\n",
      "The model is trained on the full development set.\n",
      "The scores are computed on the full evaluation set.\n",
      "()\n",
      "             precision    recall  f1-score   support\n",
      "\n",
      "       -1.0       0.50      0.72      0.59        74\n",
      "        1.0       0.40      0.21      0.27        68\n",
      "\n",
      "avg / total       0.45      0.47      0.44       142\n",
      "\n",
      "()\n",
      "# Tuning hyper-parameters for recall\n",
      "()\n",
      "Best parameters set found on development set:\n",
      "()\n",
      "{'kernel': 'rbf', 'C': 1000, 'gamma': 0.0001}\n",
      "()\n",
      "Grid scores on development set:\n",
      "()\n",
      "0.517 (+/-0.006) for {'kernel': 'rbf', 'C': 0.1, 'gamma': 0.1}\n",
      "0.517 (+/-0.006) for {'kernel': 'rbf', 'C': 0.1, 'gamma': 0.01}\n",
      "0.517 (+/-0.006) for {'kernel': 'rbf', 'C': 0.1, 'gamma': 0.001}\n",
      "0.517 (+/-0.006) for {'kernel': 'rbf', 'C': 0.1, 'gamma': 0.0001}\n",
      "0.517 (+/-0.006) for {'kernel': 'rbf', 'C': 0.1, 'gamma': 1e-05}\n",
      "0.517 (+/-0.006) for {'kernel': 'rbf', 'C': 0.5, 'gamma': 0.1}\n",
      "0.520 (+/-0.101) for {'kernel': 'rbf', 'C': 0.5, 'gamma': 0.01}\n",
      "0.520 (+/-0.040) for {'kernel': 'rbf', 'C': 0.5, 'gamma': 0.001}\n",
      "0.517 (+/-0.006) for {'kernel': 'rbf', 'C': 0.5, 'gamma': 0.0001}\n",
      "0.517 (+/-0.006) for {'kernel': 'rbf', 'C': 0.5, 'gamma': 1e-05}\n",
      "0.517 (+/-0.006) for {'kernel': 'rbf', 'C': 1, 'gamma': 0.1}\n",
      "0.508 (+/-0.043) for {'kernel': 'rbf', 'C': 1, 'gamma': 0.01}\n",
      "0.505 (+/-0.081) for {'kernel': 'rbf', 'C': 1, 'gamma': 0.001}\n",
      "0.517 (+/-0.006) for {'kernel': 'rbf', 'C': 1, 'gamma': 0.0001}\n",
      "0.517 (+/-0.006) for {'kernel': 'rbf', 'C': 1, 'gamma': 1e-05}\n",
      "0.517 (+/-0.006) for {'kernel': 'rbf', 'C': 10, 'gamma': 0.1}\n",
      "0.489 (+/-0.112) for {'kernel': 'rbf', 'C': 10, 'gamma': 0.01}\n",
      "0.517 (+/-0.054) for {'kernel': 'rbf', 'C': 10, 'gamma': 0.001}\n",
      "0.517 (+/-0.020) for {'kernel': 'rbf', 'C': 10, 'gamma': 0.0001}\n",
      "0.517 (+/-0.006) for {'kernel': 'rbf', 'C': 10, 'gamma': 1e-05}\n",
      "0.517 (+/-0.006) for {'kernel': 'rbf', 'C': 100, 'gamma': 0.1}\n",
      "0.489 (+/-0.112) for {'kernel': 'rbf', 'C': 100, 'gamma': 0.01}\n",
      "0.529 (+/-0.131) for {'kernel': 'rbf', 'C': 100, 'gamma': 0.001}\n",
      "0.523 (+/-0.102) for {'kernel': 'rbf', 'C': 100, 'gamma': 0.0001}\n",
      "0.520 (+/-0.064) for {'kernel': 'rbf', 'C': 100, 'gamma': 1e-05}\n",
      "0.517 (+/-0.006) for {'kernel': 'rbf', 'C': 1000, 'gamma': 0.1}\n",
      "0.489 (+/-0.112) for {'kernel': 'rbf', 'C': 1000, 'gamma': 0.01}\n",
      "0.502 (+/-0.123) for {'kernel': 'rbf', 'C': 1000, 'gamma': 0.001}\n",
      "0.538 (+/-0.113) for {'kernel': 'rbf', 'C': 1000, 'gamma': 0.0001}\n",
      "0.489 (+/-0.088) for {'kernel': 'rbf', 'C': 1000, 'gamma': 1e-05}\n",
      "0.489 (+/-0.081) for {'kernel': 'linear', 'C': 1}\n",
      "0.489 (+/-0.129) for {'kernel': 'linear', 'C': 10}\n",
      "0.489 (+/-0.081) for {'kernel': 'linear', 'C': 100}\n",
      "0.492 (+/-0.074) for {'kernel': 'linear', 'C': 1000}\n",
      "()\n",
      "Detailed classification report:\n",
      "()\n",
      "The model is trained on the full development set.\n",
      "The scores are computed on the full evaluation set.\n",
      "()\n",
      "             precision    recall  f1-score   support\n",
      "\n",
      "       -1.0       0.61      0.57      0.59        74\n",
      "        1.0       0.56      0.60      0.58        68\n",
      "\n",
      "avg / total       0.59      0.58      0.58       142\n",
      "\n",
      "()\n"
     ]
    }
   ],
   "source": [
    "from sklearn.cross_validation import train_test_split\n",
    "from sklearn.grid_search import GridSearchCV\n",
    "from sklearn.metrics import classification_report\n",
    "for score in scores:\n",
    "    print(\"# Tuning hyper-parameters for %s\" % score)\n",
    "    print()\n",
    "\n",
    "    clf = GridSearchCV(SVC(C=1), tuned_parameters, cv=5,\n",
    "                       scoring='%s_weighted' % score)\n",
    "    clf.fit(X_train_std, y_train)\n",
    "\n",
    "    print(\"Best parameters set found on development set:\")\n",
    "    print()\n",
    "    print(clf.best_params_)\n",
    "    print()\n",
    "    print(\"Grid scores on development set:\")\n",
    "    print()\n",
    "    for params, mean_score, scores in clf.grid_scores_:\n",
    "        print(\"%0.3f (+/-%0.03f) for %r\"\n",
    "              % (mean_score, scores.std() * 2, params))\n",
    "    print()\n",
    "\n",
    "    print(\"Detailed classification report:\")\n",
    "    print()\n",
    "    print(\"The model is trained on the full development set.\")\n",
    "    print(\"The scores are computed on the full evaluation set.\")\n",
    "    print()\n",
    "    y_true, y_pred = y_test, clf.predict(X_test_std)\n",
    "    print(classification_report(y_true, y_pred))\n",
    "    print()\n"
   ]
  },
  {
   "cell_type": "code",
   "execution_count": null,
   "metadata": {
    "collapsed": true
   },
   "outputs": [],
   "source": []
  }
 ],
 "metadata": {
  "kernelspec": {
   "display_name": "Python 2",
   "language": "python",
   "name": "python2"
  },
  "language_info": {
   "codemirror_mode": {
    "name": "ipython",
    "version": 2
   },
   "file_extension": ".py",
   "mimetype": "text/x-python",
   "name": "python",
   "nbconvert_exporter": "python",
   "pygments_lexer": "ipython2",
   "version": "2.7.12"
  }
 },
 "nbformat": 4,
 "nbformat_minor": 0
}
